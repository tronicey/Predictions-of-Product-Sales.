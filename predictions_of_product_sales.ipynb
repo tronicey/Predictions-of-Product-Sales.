{
  "nbformat": 4,
  "nbformat_minor": 0,
  "metadata": {
    "colab": {
      "provenance": [],
      "authorship_tag": "ABX9TyO4KcIkHvXfrB221YYUH6bp",
      "include_colab_link": true
    },
    "kernelspec": {
      "name": "python3",
      "display_name": "Python 3"
    },
    "language_info": {
      "name": "python"
    }
  },
  "cells": [
    {
      "cell_type": "markdown",
      "metadata": {
        "id": "view-in-github",
        "colab_type": "text"
      },
      "source": [
        "<a href=\"https://colab.research.google.com/github/tronicey/Predictions-of-Product-Sales./blob/main/predictions_of_product_sales.ipynb\" target=\"_parent\"><img src=\"https://colab.research.google.com/assets/colab-badge.svg\" alt=\"Open In Colab\"/></a>"
      ]
    },
    {
      "cell_type": "markdown",
      "source": [
        "# Predictions of Product Sales\n",
        "- Author: Tronice Ray"
      ],
      "metadata": {
        "id": "Gmeb77Bq4tY2"
      }
    },
    {
      "cell_type": "markdown",
      "source": [
        "## Project Overview"
      ],
      "metadata": {
        "id": "63-h6Zeo42iP"
      }
    },
    {
      "cell_type": "code",
      "source": [],
      "metadata": {
        "id": "kTBN_57e5eTb"
      },
      "execution_count": null,
      "outputs": []
    },
    {
      "cell_type": "markdown",
      "source": [
        "## Load and Inspect Data"
      ],
      "metadata": {
        "id": "Tq2xCZel5B-o"
      }
    },
    {
      "cell_type": "code",
      "source": [],
      "metadata": {
        "id": "xsGBLYBD5fGM"
      },
      "execution_count": null,
      "outputs": []
    },
    {
      "cell_type": "markdown",
      "source": [
        "## Clean Data"
      ],
      "metadata": {
        "id": "sRT0t2kP5F4i"
      }
    },
    {
      "cell_type": "code",
      "source": [],
      "metadata": {
        "id": "WlkqcmbI5fzO"
      },
      "execution_count": null,
      "outputs": []
    },
    {
      "cell_type": "markdown",
      "source": [
        "## Exploratory Data Analysis"
      ],
      "metadata": {
        "id": "sbxw6T7s5N7X"
      }
    },
    {
      "cell_type": "code",
      "source": [],
      "metadata": {
        "id": "NBxZBMnN5gTZ"
      },
      "execution_count": null,
      "outputs": []
    },
    {
      "cell_type": "markdown",
      "source": [
        "## Feature Inspection"
      ],
      "metadata": {
        "id": "-YD6nBZX5R2J"
      }
    },
    {
      "cell_type": "code",
      "source": [],
      "metadata": {
        "id": "Dgwp2ydW5g94"
      },
      "execution_count": null,
      "outputs": []
    }
  ]
}